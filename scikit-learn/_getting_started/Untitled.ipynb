{
 "cells": [
  {
   "cell_type": "markdown",
   "id": "architectural-hudson",
   "metadata": {},
   "source": [
    "# 事始め  \n",
    "**機械学習**を、私達は、単にデータからアルゴリズミックに知識を引き出すことだと呼べる。  \n",
    "基本的な統計学のツールを使いながら、複雑なデータ解析を完遂することができることは、この20年間で洗練され、発展を遂げてきた。それとともに、**Python**は、データサイエンスにとって最重要な言語として成長してきた。時を同じくして、**scikit-learn**は、機械学習の一般的な用途での主な道具箱として成長してきた。  \n",
    "\n",
    "基本概念と技術に的を絞り、機械学習を通して、**scikit-learn**を具象化されたライブラリとして、また、図示化されたアプリケーションをプログラミングするインターフェイスとして使いながら慣れ親しむ。  \n",
    "\n",
    "教師学習に重点を置くことに焦点を絞り、教師なし学習の理解に必要な概念もまた理解を深めて行くこととする。  \n",
    "\n",
    "**scikit-learn**の公式サイトの\n",
    "\n",
    "## **Scikit-learn**\n",
    "---\n",
    "多様なツールで、model fitting、data preprocessing、model selection、そして、evaluationに使われている。"
   ]
  },
  {
   "cell_type": "markdown",
   "id": "hundred-fiction",
   "metadata": {},
   "source": [
    "## Fitting and predicting: estimator basics\n",
    "**scikit-learn**は、[**estimators**](https://scikit-learn.org/stable/glossary.html#term-estimators)と呼ばれる機械学習アルゴリズムとモデルがビルトインされているフリーのツールである。それぞれのestimatorsは[**fit**](https://scikit-learn.org/stable/glossary.html#term-fit)メソッドを使ってあるデータに適合させることができる。  \n",
    "\n",
    "まず最初に、[**RndomForestClassifier**](https://scikit-learn.org/stable/modules/generated/sklearn.ensemble.RandomForestClassifier.html#sklearn.ensemble.RandomForestClassifier)使ってみる。"
   ]
  },
  {
   "cell_type": "code",
   "execution_count": 2,
   "id": "invisible-promotion",
   "metadata": {},
   "outputs": [],
   "source": [
    "from sklearn.ensemble import RandomForestClassifier"
   ]
  },
  {
   "cell_type": "code",
   "execution_count": 3,
   "id": "passing-friendly",
   "metadata": {},
   "outputs": [],
   "source": [
    "clf = RandomForestClassifier(random_state=0)"
   ]
  },
  {
   "cell_type": "code",
   "execution_count": 4,
   "id": "detailed-lawrence",
   "metadata": {},
   "outputs": [],
   "source": [
    "# 2 samples, 3 features\n",
    "X = [[1, 2, 3],\n",
    "     [11, 12, 13]]"
   ]
  },
  {
   "cell_type": "code",
   "execution_count": 6,
   "id": "prime-cycling",
   "metadata": {},
   "outputs": [],
   "source": [
    "# classes of each sample\n",
    "y = [0, 1]"
   ]
  },
  {
   "cell_type": "code",
   "execution_count": 7,
   "id": "chinese-potato",
   "metadata": {},
   "outputs": [
    {
     "data": {
      "text/plain": [
       "RandomForestClassifier(random_state=0)"
      ]
     },
     "execution_count": 7,
     "metadata": {},
     "output_type": "execute_result"
    }
   ],
   "source": [
    "clf.fit(X, y)"
   ]
  },
  {
   "cell_type": "markdown",
   "id": "genuine-siemens",
   "metadata": {},
   "source": [
    "### ここで、**fit**メソッドは２つの入力値を受けている。\n",
    "- サンプルマトリックス**X**について。**X**の形状は**(x_samples, n_features)となる。これは、サンプルは**行**に、特徴は**列**に形作られたマトリックスをあらわす。  \n",
    "- ターゲット値**y**は、教師あり学習の場合は定量的な値を持つ。しかし教師なし学習の場合には存在しない。"
   ]
  },
  {
   "cell_type": "markdown",
   "id": "eleven-rates",
   "metadata": {},
   "source": [
    "### **estimator**に**fit**メソッドが適用されると、新しい値の予測値を求めるために使われる。"
   ]
  },
  {
   "cell_type": "code",
   "execution_count": 8,
   "id": "after-washington",
   "metadata": {},
   "outputs": [
    {
     "data": {
      "text/plain": [
       "array([0, 1])"
      ]
     },
     "execution_count": 8,
     "metadata": {},
     "output_type": "execute_result"
    }
   ],
   "source": [
    "clf.predict(X)"
   ]
  },
  {
   "cell_type": "code",
   "execution_count": 9,
   "id": "vocal-insulation",
   "metadata": {},
   "outputs": [
    {
     "data": {
      "text/plain": [
       "array([0, 1])"
      ]
     },
     "execution_count": 9,
     "metadata": {},
     "output_type": "execute_result"
    }
   ],
   "source": [
    "clf.predict([[4, 5, 6],[14, 15, 16]])"
   ]
  },
  {
   "cell_type": "markdown",
   "id": "municipal-vitamin",
   "metadata": {},
   "source": [
    "---"
   ]
  },
  {
   "cell_type": "markdown",
   "id": "filled-digit",
   "metadata": {},
   "source": [
    "# Transformers and pre-processors"
   ]
  },
  {
   "cell_type": "markdown",
   "id": "satellite-scanning",
   "metadata": {},
   "source": [
    "機械学習のワークフローは、しばしば異なったパーツで構成されることがある。その最もなパイプラインは、前処理段階で、データの変換や代入によるもので成り立ち、最終的な予測子は、対象の値を予測する。"
   ]
  },
  {
   "cell_type": "code",
   "execution_count": 11,
   "id": "proud-legend",
   "metadata": {},
   "outputs": [],
   "source": [
    "from sklearn.preprocessing import StandardScaler"
   ]
  },
  {
   "cell_type": "code",
   "execution_count": 12,
   "id": "champion-april",
   "metadata": {},
   "outputs": [],
   "source": [
    "X = [[0, 15],\n",
    "     [1, 10]]"
   ]
  },
  {
   "cell_type": "code",
   "execution_count": 15,
   "id": "forty-grain",
   "metadata": {},
   "outputs": [
    {
     "data": {
      "text/plain": [
       "array([[-1.,  1.],\n",
       "       [ 1., -1.]])"
      ]
     },
     "execution_count": 15,
     "metadata": {},
     "output_type": "execute_result"
    }
   ],
   "source": [
    "# scale data according to computed scaling value\n",
    "StandardScaler().fit(X).transform(X)"
   ]
  },
  {
   "cell_type": "markdown",
   "id": "severe-shape",
   "metadata": {},
   "source": [
    "これとは違った特徴に対する異なった変換を適用したいと、しばしば出くわすことがある。[**ColumnTransformer**](https://scikit-learn.org/stable/modules/compose.html#column-transformer)は、これらのユースケースに対応してデザインされているものである。"
   ]
  },
  {
   "cell_type": "markdown",
   "id": "adjacent-singing",
   "metadata": {},
   "source": [
    "---"
   ]
  },
  {
   "cell_type": "markdown",
   "id": "blind-rotation",
   "metadata": {},
   "source": [
    "## Pipelines: chaining pre-processors and estimators"
   ]
  },
  {
   "cell_type": "markdown",
   "id": "limiting-miracle",
   "metadata": {},
   "source": []
  }
 ],
 "metadata": {
  "kernelspec": {
   "display_name": "Python 3",
   "language": "python",
   "name": "python3"
  },
  "language_info": {
   "codemirror_mode": {
    "name": "ipython",
    "version": 3
   },
   "file_extension": ".py",
   "mimetype": "text/x-python",
   "name": "python",
   "nbconvert_exporter": "python",
   "pygments_lexer": "ipython3",
   "version": "3.8.2"
  }
 },
 "nbformat": 4,
 "nbformat_minor": 5
}
