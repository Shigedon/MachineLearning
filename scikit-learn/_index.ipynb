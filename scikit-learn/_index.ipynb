{
 "cells": [
  {
   "cell_type": "markdown",
   "id": "continent-lightweight",
   "metadata": {},
   "source": [
    "# Scikit-Learn\n",
    "\n",
    "**機械学習**を、私達は、単にデータからアルゴリズミックに知識を引き出すことだと呼べる。  \n",
    "基本的な統計学のツールを使いながら、複雑なデータ解析を完遂することができることは、この20年間で洗練され、発展を遂げてきた。それとともに、**Python**は、データサイエンスにとって最重要な言語として成長してきた。時を同じくして、**scikit-learn**は、機械学習の一般的な用途での主な道具箱として成長してきた。  \n",
    "\n",
    "基本概念と技術に的を絞り、機械学習を通して、**scikit-learn**を具象化されたライブラリとして、また、図示化されたアプリケーションをプログラミングするインターフェイスとして使いながら慣れ親しむ。  \n",
    "\n",
    "教師学習に重点を置くことに焦点を絞り、教師なし学習の理解に必要な概念もまた理解を深めて行くこととする。  "
   ]
  },
  {
   "cell_type": "markdown",
   "id": "contained-turkish",
   "metadata": {},
   "source": [
    "## Scikit-Learn公式サイト"
   ]
  },
  {
   "cell_type": "code",
   "execution_count": null,
   "id": "chubby-preview",
   "metadata": {},
   "outputs": [],
   "source": []
  }
 ],
 "metadata": {
  "kernelspec": {
   "display_name": "Python 3",
   "language": "python",
   "name": "python3"
  },
  "language_info": {
   "codemirror_mode": {
    "name": "ipython",
    "version": 3
   },
   "file_extension": ".py",
   "mimetype": "text/x-python",
   "name": "python",
   "nbconvert_exporter": "python",
   "pygments_lexer": "ipython3",
   "version": "3.8.2"
  }
 },
 "nbformat": 4,
 "nbformat_minor": 5
}
